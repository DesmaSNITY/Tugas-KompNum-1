{
  "nbformat": 4,
  "nbformat_minor": 0,
  "metadata": {
    "colab": {
      "provenance": [],
      "authorship_tag": "ABX9TyN4LKfCnk3GIdX/F14U2LjU",
      "include_colab_link": true
    },
    "kernelspec": {
      "name": "python3",
      "display_name": "Python 3"
    },
    "language_info": {
      "name": "python"
    }
  },
  "cells": [
    {
      "cell_type": "markdown",
      "metadata": {
        "id": "view-in-github",
        "colab_type": "text"
      },
      "source": [
        "<a href=\"https://colab.research.google.com/github/DesmaSNITY/Tugas-KompNum-1/blob/main/trapezoid_integral.ipynb\" target=\"_parent\"><img src=\"https://colab.research.google.com/assets/colab-badge.svg\" alt=\"Open In Colab\"/></a>"
      ]
    },
    {
      "cell_type": "markdown",
      "source": [
        "Fungsi f(x) mendefinisikan fungsi matematika yang akan diintegrasikan.\n",
        "fungsi yang digunakan adalah 1 / (1 + x²)."
      ],
      "metadata": {
        "id": "NTvuE5i2imvh"
      }
    },
    {
      "cell_type": "code",
      "execution_count": 1,
      "metadata": {
        "id": "2L6yAMK7NnUi"
      },
      "outputs": [],
      "source": [
        "# Trapezoidal Method\n",
        "\n",
        "# Define function to integrate\n",
        "def f(x):\n",
        "    return 1/(1 + x**2)\n"
      ]
    },
    {
      "cell_type": "markdown",
      "source": [
        "untuk menghitung nilai integral menggunakan metode trapezoidal."
      ],
      "metadata": {
        "id": "KEsyOVfiinjr"
      }
    },
    {
      "cell_type": "code",
      "source": [
        "# Implementing trapezoidal method\n",
        "def trapezoidal(x0,xn,n):\n",
        "    # calculating step size\n",
        "\n",
        "    # menghitung Panjang Step (h): Panjang interval dihitung dengan rumus h = (xn - x0) / n.\n",
        "    # x0 adalah batas bawah, xn adalah batas atas dan n adalah jumlah sub-interval.\n",
        "    h = (xn - x0) / n\n",
        "\n",
        "    # Finding sum\n",
        "    # mengitung Jumlah Awal (integration) Nilai awal integrasi adalah jumlah fungsi pada batas bawah f(x0) dan batas atas f(xn).\n",
        "    integration = f(x0) + f(xn)\n",
        "\n",
        "    # Iterasi untuk Titik Tengah Dilakukan iterasi untuk menghitung nilai fungsi di titik tengah interval dan dijumlahkan (dikalikan 2).\n",
        "    for i in range(1,n):\n",
        "        k = x0 + i*h\n",
        "        integration = integration + 2 * f(k)\n",
        "\n",
        "    # Finding final integration value\n",
        "    # menghitung nilai akhir hasil akhir dikalikan dengan h/2 untuk mendapatkan nilai integrasi.\n",
        "    integration = integration * h/2\n",
        "\n",
        "    return integration"
      ],
      "metadata": {
        "id": "_F5PGSZ1hEOH"
      },
      "execution_count": 5,
      "outputs": []
    },
    {
      "cell_type": "markdown",
      "source": [
        "code untuk mendapatkan nilai dari user untuk mendapat batas atas, batas bawah, dan sub interval.\n",
        "\n",
        "sub-interval yang digunakan dalam metode trapezoidal untuk membagi interval."
      ],
      "metadata": {
        "id": "4_r8WTMrioKo"
      }
    },
    {
      "cell_type": "code",
      "source": [
        "# Input section\n",
        "lower_limit = float(input(\"Enter lower limit of integration: \"))\n",
        "upper_limit = float(input(\"Enter upper limit of integration: \"))\n",
        "sub_interval = int(input(\"Enter number of sub intervals: \"))"
      ],
      "metadata": {
        "id": "T1dqPZHphIjc",
        "outputId": "0ca8c13c-1a5f-4cdc-e8ee-9fdfef76dbb1",
        "colab": {
          "base_uri": "https://localhost:8080/"
        }
      },
      "execution_count": 7,
      "outputs": [
        {
          "name": "stdout",
          "output_type": "stream",
          "text": [
            "Enter lower limit of integration: 0\n",
            "Enter upper limit of integration: 1\n",
            "Enter number of sub intervals: 4\n"
          ]
        }
      ]
    },
    {
      "cell_type": "markdown",
      "source": [
        "Fungsi trapezoidal dipanggil dengan parameter batas bawah, batas atas, dan jumlah sub-interval yang dimasukkan oleh pengguna.\n",
        "\n",
        "Hasil integrasi ditampilkan dengan format hingga 6 angka desimal."
      ],
      "metadata": {
        "id": "kIBW_0Zfipi5"
      }
    },
    {
      "cell_type": "code",
      "source": [
        "\n",
        "# Call trapezoidal() method and get result\n",
        "result = trapezoidal(lower_limit, upper_limit, sub_interval)\n",
        "print(\"Integration result by Trapezoidal method is: %0.6f\" % (result) )"
      ],
      "metadata": {
        "id": "JcdHNPHOhMyt",
        "outputId": "b84a92af-d5e7-47d4-8993-7f58485c08b5",
        "colab": {
          "base_uri": "https://localhost:8080/"
        }
      },
      "execution_count": 8,
      "outputs": [
        {
          "output_type": "stream",
          "name": "stdout",
          "text": [
            "Integration result by Trapezoidal method is: 0.782794\n"
          ]
        }
      ]
    }
  ]
}