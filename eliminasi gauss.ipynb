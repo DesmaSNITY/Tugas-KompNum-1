{
  "nbformat": 4,
  "nbformat_minor": 0,
  "metadata": {
    "colab": {
      "provenance": []
    },
    "kernelspec": {
      "name": "python3",
      "display_name": "Python 3"
    },
    "language_info": {
      "name": "python"
    }
  },
  "cells": [
    {
      "cell_type": "markdown",
      "source": [
        "Mengimport Pakage numpy"
      ],
      "metadata": {
        "id": "nMYaG_MkbW04"
      }
    },
    {
      "cell_type": "code",
      "source": [
        "import numpy"
      ],
      "metadata": {
        "id": "P1o_n8jEbNDV"
      },
      "execution_count": 27,
      "outputs": []
    },
    {
      "cell_type": "markdown",
      "source": [
        "Menambahkan Variable untuk membuat array dengan menggunakan pakage numpy"
      ],
      "metadata": {
        "id": "tKpyYoWvcIYh"
      }
    },
    {
      "cell_type": "code",
      "source": [
        "x = numpy.zeros(3)"
      ],
      "metadata": {
        "id": "fqElpksdbfis"
      },
      "execution_count": 28,
      "outputs": []
    },
    {
      "cell_type": "markdown",
      "source": [
        "Memasukkan nilai kedalam array"
      ],
      "metadata": {
        "id": "_3wtlVzFDQPP"
      }
    },
    {
      "cell_type": "code",
      "execution_count": 29,
      "metadata": {
        "colab": {
          "base_uri": "https://localhost:8080/"
        },
        "id": "C3aJpOzwRswY",
        "outputId": "046ea5a1-f960-43c3-ef7f-caa61203fafd"
      },
      "outputs": [
        {
          "output_type": "stream",
          "name": "stdout",
          "text": [
            "Sistem Persamaan Linear matriks adalah  [[2, 3, -1, 5], [4, 4, -3, 3], [-2, 3, -1, 1]]\n",
            "4\n",
            "4\n",
            "-3\n",
            "3\n"
          ]
        }
      ],
      "source": [
        "SPL = ([[2,3,-1,5],[4,4,-3,3],[-2,3,-1,1]]) #ini matriksnya\n",
        "print(\"Sistem Persamaan Linear matriks adalah \",SPL)\n",
        "#SPL[1][0]= SPL[1][0] - (2*SPL[0][0])\n",
        "#SPL[1][1] = SPL[1][1] - (2*SPL[0][1])\n",
        "#SPL[1][2] = SPL[1][2] - (2*SPL[0][2])\n",
        "#SPL[1][3] = SPL[1][3] - (2*SPL[0][3])\n",
        "\n",
        "# for i in range(0,3):\n",
        "#     SPL[1][i] = SPL[1][i] - (2*SPL[0][i])\n",
        "\n",
        "print(SPL[1][0])\n",
        "print(SPL[1][1])\n",
        "print(SPL[1][2])\n",
        "print(SPL[1][3])"
      ]
    },
    {
      "cell_type": "markdown",
      "source": [
        "Melakukan eliminasi gauss"
      ],
      "metadata": {
        "id": "f3Weno5CC4QZ"
      }
    },
    {
      "cell_type": "code",
      "source": [
        "SPL = ([[2,3,-1,5],[4,4,-3,3],[-2,3,-1,1]]) #ini matriksnya\n",
        "print(\"Sistem Persamaan Linear matriks adalah \",SPL)\n",
        "#SPL[1][0]= SPL[1][0] - (2*SPL[0][0])\n",
        "#SPL[1][1] = SPL[1][1] - (2*SPL[0][1])\n",
        "#SPL[1][2] = SPL[1][2] - (2*SPL[0][2])\n",
        "#SPL[1][3] = SPL[1][3] - (2*SPL[0][3])\n",
        "\n",
        "for i in range(4):\n",
        "    SPL[1][i] = SPL[1][i] - (2*SPL[0][i])\n",
        "\n",
        "for i in range(4):\n",
        "    SPL[2][i] = SPL[2][i] - (-1*SPL[0][i])\n",
        "\n",
        "for i in range(3):\n",
        "    SPL[2][i+1] = SPL[2][i+1] - (-3*SPL[1][i+1])\n",
        "\n",
        "SPL"
      ],
      "metadata": {
        "colab": {
          "base_uri": "https://localhost:8080/"
        },
        "id": "js9lGSow2LIs",
        "outputId": "a11e8383-6e15-40dd-b587-ed94ccbb9bf1"
      },
      "execution_count": 30,
      "outputs": [
        {
          "output_type": "stream",
          "name": "stdout",
          "text": [
            "Sistem Persamaan Linear matriks adalah  [[2, 3, -1, 5], [4, 4, -3, 3], [-2, 3, -1, 1]]\n"
          ]
        },
        {
          "output_type": "execute_result",
          "data": {
            "text/plain": [
              "[[2, 3, -1, 5], [0, -2, -1, -7], [0, 0, -5, -15]]"
            ]
          },
          "metadata": {},
          "execution_count": 30
        }
      ]
    },
    {
      "cell_type": "code",
      "source": [
        "SPL"
      ],
      "metadata": {
        "id": "gZpYivez9e06",
        "outputId": "b12b9ad9-3c18-4639-8d20-ffad01474528",
        "colab": {
          "base_uri": "https://localhost:8080/"
        }
      },
      "execution_count": 31,
      "outputs": [
        {
          "output_type": "execute_result",
          "data": {
            "text/plain": [
              "[[2, 3, -1, 5], [0, -2, -1, -7], [0, 0, -5, -15]]"
            ]
          },
          "metadata": {},
          "execution_count": 31
        }
      ]
    },
    {
      "cell_type": "markdown",
      "source": [
        "\n",
        "\n",
        "Melakukan Subtitusi balik untuk mencari nilai akhir variable\n"
      ],
      "metadata": {
        "id": "-fyMAWy8crMO"
      }
    },
    {
      "cell_type": "code",
      "source": [
        "\n",
        "\n",
        "\n",
        "# Melakukan Subtitusi balik untuk mencari nilai akhir variable\n",
        "x[2] = SPL[2][3] / SPL[2][2]\n",
        "x[1] = (SPL[1][3] - (SPL[1][2] * x[2])) / SPL[1][1]\n",
        "x[0] = (SPL[0][3] - (SPL[0][2] * x[2]) - (SPL[0][1] * x[1])) / SPL[0][0]\n",
        "\n",
        "\n",
        "print(\"Nilai x:\", x[0])\n",
        "print(\"Nilai y:\", x[1])\n",
        "print(\"Nilai z:\", x[2])"
      ],
      "metadata": {
        "id": "zv4X_xpgcpd7",
        "outputId": "872b17ae-7494-48b0-db2c-a3f7888d1133",
        "colab": {
          "base_uri": "https://localhost:8080/"
        }
      },
      "execution_count": 32,
      "outputs": [
        {
          "output_type": "stream",
          "name": "stdout",
          "text": [
            "Nilai x: 1.0\n",
            "Nilai y: 2.0\n",
            "Nilai z: 3.0\n"
          ]
        }
      ]
    }
  ]
}