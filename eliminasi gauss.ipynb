{
  "nbformat": 4,
  "nbformat_minor": 0,
  "metadata": {
    "colab": {
      "provenance": []
    },
    "kernelspec": {
      "name": "python3",
      "display_name": "Python 3"
    },
    "language_info": {
      "name": "python"
    }
  },
  "cells": [
    {
      "cell_type": "markdown",
      "source": [
        "Memasukkan nilai kedalam array"
      ],
      "metadata": {
        "id": "_3wtlVzFDQPP"
      }
    },
    {
      "cell_type": "code",
      "execution_count": 2,
      "metadata": {
        "colab": {
          "base_uri": "https://localhost:8080/"
        },
        "id": "C3aJpOzwRswY",
        "outputId": "8d1a6dfd-52ac-4a0b-b18c-27840be0cdde"
      },
      "outputs": [
        {
          "output_type": "stream",
          "name": "stdout",
          "text": [
            "Sistem Persamaan Linear matriks adalah  [[2, 3, -1, 5], [4, 4, -3, 3], [-2, 3, -1, 1]]\n",
            "0\n",
            "-2\n",
            "-1\n",
            "3\n"
          ]
        }
      ],
      "source": [
        "SPL = ([[2,3,-1,5],[4,4,-3,3],[-2,3,-1,1]]) #ini matriksnya\n",
        "print(\"Sistem Persamaan Linear matriks adalah \",SPL)\n",
        "#SPL[1][0]= SPL[1][0] - (2*SPL[0][0])\n",
        "#SPL[1][1] = SPL[1][1] - (2*SPL[0][1])\n",
        "#SPL[1][2] = SPL[1][2] - (2*SPL[0][2])\n",
        "#SPL[1][3] = SPL[1][3] - (2*SPL[0][3])\n",
        "\n",
        "for i in range(0,3):\n",
        "    SPL[1][i] = SPL[1][i] - (2*SPL[0][i])\n",
        "\n",
        "print(SPL[1][0])\n",
        "print(SPL[1][1])\n",
        "print(SPL[1][2])\n",
        "print(SPL[1][3])"
      ]
    },
    {
      "cell_type": "markdown",
      "source": [
        "Melakukan eliminasi gauss"
      ],
      "metadata": {
        "id": "f3Weno5CC4QZ"
      }
    },
    {
      "cell_type": "code",
      "source": [
        "SPL = ([[2,3,-1,5],[4,4,-3,3],[-2,3,-1,1]]) #ini matriksnya\n",
        "print(\"Sistem Persamaan Linear matriks adalah \",SPL)\n",
        "#SPL[1][0]= SPL[1][0] - (2*SPL[0][0])\n",
        "#SPL[1][1] = SPL[1][1] - (2*SPL[0][1])\n",
        "#SPL[1][2] = SPL[1][2] - (2*SPL[0][2])\n",
        "#SPL[1][3] = SPL[1][3] - (2*SPL[0][3])\n",
        "\n",
        "for i in range(4):\n",
        "    SPL[1][i] = SPL[1][i] - (2*SPL[0][i])\n",
        "\n",
        "for i in range(4):\n",
        "    SPL[2][i] = SPL[2][i] - (-1*SPL[0][i])\n",
        "\n",
        "for i in range(3):\n",
        "    SPL[2][i+1] = SPL[2][i+1] - (-3*SPL[1][i+1])\n",
        "\n",
        "SPL"
      ],
      "metadata": {
        "colab": {
          "base_uri": "https://localhost:8080/"
        },
        "id": "js9lGSow2LIs",
        "outputId": "ef0ecb71-9a74-49fc-ce0e-58681058fa60"
      },
      "execution_count": 3,
      "outputs": [
        {
          "output_type": "stream",
          "name": "stdout",
          "text": [
            "Sistem Persamaan Linear matriks adalah  [[2, 3, -1, 5], [4, 4, -3, 3], [-2, 3, -1, 1]]\n"
          ]
        },
        {
          "output_type": "execute_result",
          "data": {
            "text/plain": [
              "[[2, 3, -1, 5], [0, -2, -1, -7], [0, 0, -5, -15]]"
            ]
          },
          "metadata": {},
          "execution_count": 3
        }
      ]
    }
  ]
}