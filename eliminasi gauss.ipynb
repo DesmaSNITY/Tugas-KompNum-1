{
  "nbformat": 4,
  "nbformat_minor": 0,
  "metadata": {
    "colab": {
      "provenance": []
    },
    "kernelspec": {
      "name": "python3",
      "display_name": "Python 3"
    },
    "language_info": {
      "name": "python"
    }
  },
  "cells": [
    {
      "cell_type": "markdown",
      "source": [
        "Mengimport Pakage numpy"
      ],
      "metadata": {
        "id": "nMYaG_MkbW04"
      }
    },
    {
      "cell_type": "code",
      "source": [
        "import numpy"
      ],
      "metadata": {
        "id": "P1o_n8jEbNDV"
      },
      "execution_count": 56,
      "outputs": []
    },
    {
      "cell_type": "markdown",
      "source": [
        "Menambahkan Variable untuk membuat array dengan menggunakan pakage numpy"
      ],
      "metadata": {
        "id": "tKpyYoWvcIYh"
      }
    },
    {
      "cell_type": "code",
      "source": [
        "n = int(input(\"masukkan jumlah variable yang akan digunakan \"))"
      ],
      "metadata": {
        "colab": {
          "base_uri": "https://localhost:8080/"
        },
        "id": "tPcGHYh_Q-ir",
        "outputId": "28e2395e-eba3-47d8-bf68-3c58c937a7b0"
      },
      "execution_count": 59,
      "outputs": [
        {
          "name": "stdout",
          "output_type": "stream",
          "text": [
            "masukkan jumlah variable yang akan digunakan 3\n"
          ]
        }
      ]
    },
    {
      "cell_type": "markdown",
      "source": [
        "Menjalankan code untuk membuat array"
      ],
      "metadata": {
        "id": "xK3o6QCdRxzz"
      }
    },
    {
      "cell_type": "code",
      "source": [
        "x = numpy.zeros(n)\n",
        "SPL = numpy.zeros((n,n+1))"
      ],
      "metadata": {
        "id": "fqElpksdbfis"
      },
      "execution_count": 61,
      "outputs": []
    },
    {
      "cell_type": "markdown",
      "source": [
        "pengguna memasukkan nilai kedalam matrix Memasukkan nilai kedalam array"
      ],
      "metadata": {
        "id": "_3wtlVzFDQPP"
      }
    },
    {
      "cell_type": "code",
      "execution_count": 63,
      "metadata": {
        "colab": {
          "base_uri": "https://localhost:8080/"
        },
        "id": "C3aJpOzwRswY",
        "outputId": "4f42bcf5-3a10-4c2d-b0a7-91a5b258d914"
      },
      "outputs": [
        {
          "name": "stdout",
          "output_type": "stream",
          "text": [
            "masukkan nilai kedalam array\n",
            "a[0][0]2\n",
            "a[0][1]3\n",
            "a[0][2]-1\n",
            "a[0][3]5\n",
            "a[1][0]4\n",
            "a[1][1]4\n",
            "a[1][2]-3\n",
            "a[1][3]3\n",
            "a[2][0]-2\n",
            "a[2][1]3\n",
            "a[2][2]-1\n",
            "a[2][3]1\n"
          ]
        }
      ],
      "source": [
        "print(\"masukkan nilai kedalam array\")\n",
        "for i in range(n):\n",
        "  for j in range(n+1):\n",
        "    SPL[i][j]=float(input(f\"a[{i}][{j}]\"))\n"
      ]
    },
    {
      "cell_type": "markdown",
      "source": [
        "Melakukan eliminasi gauss"
      ],
      "metadata": {
        "id": "f3Weno5CC4QZ"
      }
    },
    {
      "cell_type": "code",
      "source": [
        "# SPL = ([[2,3,-1,5],[4,4,-3,3],[-2,3,-1,1]]) #ini matriksnya\n",
        "print(\"Sistem Persamaan Linear matriks adalah \",SPL)\n",
        "for j in range(n):\n",
        "  #Melakukan pengecheckan pada pembagi\n",
        "  if SPL[j][j] == 0:\n",
        "    sys.exit('Terdapat nilai 0 pada diagonal utama')\n",
        "\n",
        "  for k in range(j+1,n):\n",
        "    # mecari nilai rasio yang digunakan untuk dikalikan dengan baris j\n",
        "    rasio = SPL[k][j]/SPL[j][j]\n",
        "\n",
        "    for i in range(n+1):\n",
        "      # melakukan eliminasi pada baris i\n",
        "      SPL[k][i] = SPL[k][i] - rasio * SPL[j][i]\n",
        "\n",
        "\n",
        "SPL"
      ],
      "metadata": {
        "colab": {
          "base_uri": "https://localhost:8080/"
        },
        "id": "js9lGSow2LIs",
        "outputId": "a713057c-4cbb-4ce5-d0d8-06c6f9c2ec14"
      },
      "execution_count": 64,
      "outputs": [
        {
          "output_type": "stream",
          "name": "stdout",
          "text": [
            "Sistem Persamaan Linear matriks adalah  [[ 2.  3. -1.  5.]\n",
            " [ 4.  4. -3.  3.]\n",
            " [-2.  3. -1.  1.]]\n"
          ]
        },
        {
          "output_type": "execute_result",
          "data": {
            "text/plain": [
              "array([[  2.,   3.,  -1.,   5.],\n",
              "       [  0.,  -2.,  -1.,  -7.],\n",
              "       [  0.,   0.,  -5., -15.]])"
            ]
          },
          "metadata": {},
          "execution_count": 64
        }
      ]
    },
    {
      "cell_type": "markdown",
      "source": [
        "\n",
        "\n",
        "Melakukan Subtitusi balik untuk mencari nilai akhir variable\n"
      ],
      "metadata": {
        "id": "-fyMAWy8crMO"
      }
    },
    {
      "cell_type": "code",
      "source": [
        "# Melakukan Subtitusi balik untuk mencari nilai akhir variable\n",
        "x[2] = SPL[n-1][n] / SPL[n-1][n-1]\n",
        "\n",
        "for i in range(n-2,-1,-1):\n",
        "    x[i] = SPL[i][n]\n",
        "    for j in range(i+1,n):\n",
        "      # melakukan pengurangan pada pada variable yang sudah ditemukan\n",
        "      x[i] = x[i] - SPL[i][j]*x[j]\n",
        "    # jika selesai tinggal membagi variable yang dicari dengan nilai akhir\n",
        "    x[i] = x[i] / SPL[i][i]\n",
        "\n",
        "\n",
        "\n",
        "print(\"Nilai x:\", x[0])\n",
        "print(\"Nilai y:\", x[1])\n",
        "print(\"Nilai z:\", x[2])"
      ],
      "metadata": {
        "id": "zv4X_xpgcpd7",
        "colab": {
          "base_uri": "https://localhost:8080/"
        },
        "outputId": "e8ae94e8-91a5-4f00-847f-8825f96be5a0"
      },
      "execution_count": 65,
      "outputs": [
        {
          "output_type": "stream",
          "name": "stdout",
          "text": [
            "Nilai x: 1.0\n",
            "Nilai y: 2.0\n",
            "Nilai z: 3.0\n"
          ]
        }
      ]
    }
  ]
}