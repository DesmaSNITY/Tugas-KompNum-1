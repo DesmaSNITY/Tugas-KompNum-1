{
  "nbformat": 4,
  "nbformat_minor": 0,
  "metadata": {
    "colab": {
      "provenance": []
    },
    "kernelspec": {
      "name": "python3",
      "display_name": "Python 3"
    },
    "language_info": {
      "name": "python"
    }
  },
  "cells": [
    {
      "cell_type": "markdown",
      "source": [
        "Import library numpy"
      ],
      "metadata": {
        "id": "Om421PjZ9R3S"
      }
    },
    {
      "cell_type": "code",
      "execution_count": 19,
      "metadata": {
        "id": "2JHVHadOtZcL"
      },
      "outputs": [],
      "source": [
        "import numpy as np"
      ]
    },
    {
      "cell_type": "markdown",
      "source": [
        "membuat array"
      ],
      "metadata": {
        "id": "myYSshfjUWmt"
      }
    },
    {
      "cell_type": "code",
      "source": [
        "a = np.zeros(3)"
      ],
      "metadata": {
        "id": "6adiFGCMUVdU"
      },
      "execution_count": 20,
      "outputs": []
    },
    {
      "cell_type": "markdown",
      "source": [
        "user memasukkan nilai interval a ,b dam nilai toleransi"
      ],
      "metadata": {
        "id": "HLWFpcZOUGnZ"
      }
    },
    {
      "cell_type": "code",
      "source": [
        "print(\"masukkan nilai a ,b dan toleransi\")\n",
        "for i in range(len(a)):\n",
        "    a[i] = float(input(\"\"))"
      ],
      "metadata": {
        "colab": {
          "base_uri": "https://localhost:8080/"
        },
        "id": "jburBi45UUku",
        "outputId": "365c9750-ea2c-4fcb-e8ba-53be7cbabfd2"
      },
      "execution_count": 21,
      "outputs": [
        {
          "name": "stdout",
          "output_type": "stream",
          "text": [
            "masukkan nilai a ,b dan toleransi\n",
            "0\n",
            "2\n",
            "0.0001\n"
          ]
        }
      ]
    },
    {
      "cell_type": "markdown",
      "source": [
        "user input fungsi"
      ],
      "metadata": {
        "id": "K8PecwokWxKo"
      }
    },
    {
      "cell_type": "code",
      "source": [
        "rumus = input(\"masukkan fungsi: \")"
      ],
      "metadata": {
        "colab": {
          "base_uri": "https://localhost:8080/"
        },
        "id": "SJ7J1srLXodv",
        "outputId": "7364b6f0-50f4-4f8d-e7ef-0fd1472bb105"
      },
      "execution_count": 22,
      "outputs": [
        {
          "name": "stdout",
          "output_type": "stream",
          "text": [
            "masukkan fungsi: 4*x**2-1\n"
          ]
        }
      ]
    },
    {
      "cell_type": "markdown",
      "source": [
        "fungsi ini digunakan untuk melakukan perhitungan bisection"
      ],
      "metadata": {
        "id": "kKWDhSvC9YWx"
      }
    },
    {
      "cell_type": "code",
      "source": [
        "def bisection(f, a, b, tol):\n",
        "\n",
        "    if np.sign(f(a)) == np.sign(f(b)):\n",
        "        raise Exception(\n",
        "         \"tidak bisa\")\n",
        "\n",
        "    m = (a + b)/2\n",
        "\n",
        "    if np.abs(f(m)) < tol:\n",
        "        return m\n",
        "    elif np.sign(f(a)) == np.sign(f(m)):\n",
        "        return bisection(f, m, b, tol)\n",
        "    elif np.sign(f(b)) == np.sign(f(m)):\n",
        "        return bisection(f, a, m, tol)"
      ],
      "metadata": {
        "id": "5_LhaSoZurtu"
      },
      "execution_count": 23,
      "outputs": []
    },
    {
      "cell_type": "markdown",
      "source": [
        "Menampilkan output perhitungan dari fungsi bisection diatas dan membuat fungsi yang digunakan untuk kalkulasi dalam fungsi bisection yaitu x^2 - 2"
      ],
      "metadata": {
        "id": "O7wGhOo1-IoI"
      }
    },
    {
      "cell_type": "code",
      "source": [
        "f = eval(f\"lambda x: {rumus}\")\n",
        "\n",
        "r1 = bisection(f, a[0], a[1], 0.01)\n",
        "\n",
        "\n",
        "print(f\"r1 = {r1}\")\n",
        "print(\"f(r1) =\", f(r1))\n"
      ],
      "metadata": {
        "id": "ncQT2IKYvNBk",
        "colab": {
          "base_uri": "https://localhost:8080/"
        },
        "outputId": "cbc6231a-caaa-4eaf-db85-aaa8a34e8549"
      },
      "execution_count": 24,
      "outputs": [
        {
          "output_type": "stream",
          "name": "stdout",
          "text": [
            "r1 = 0.5\n",
            "f(r1) = 0.0\n"
          ]
        }
      ]
    }
  ]
}